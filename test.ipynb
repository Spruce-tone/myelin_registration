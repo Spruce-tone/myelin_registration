{
 "cells": [
  {
   "cell_type": "code",
   "execution_count": 3,
   "metadata": {},
   "outputs": [],
   "source": [
    "%reload_ext autoreload\n",
    "%autoreload 2\n",
    "\n",
    "import warnings\n",
    "warnings.filterwarnings(action='ignore') \n",
    "\n",
    "import gzip\n",
    "import xml.etree.ElementTree as ET\n",
    "import os, re, pickle\n",
    "from pkg.trace_stack_regi import extractTrace\n",
    "from pkg.trace_stack_regi import search_regi_files\n",
    "from pkg.trace_stack_regi import segment_crop, regi_cropped_img, save_pickle, load_pickle\n",
    "from collections import Counter\n",
    "\n",
    "import sys\n",
    "import numpy as np\n",
    "from matplotlib import pyplot as plt\n",
    "from skimage import transform, io, exposure\n",
    "\n",
    "from pystackreg import StackReg\n",
    "# import pystackreg"
   ]
  },
  {
   "cell_type": "code",
   "execution_count": 4,
   "metadata": {},
   "outputs": [
    {
     "name": "stdout",
     "output_type": "stream",
     "text": [
      "[INFO | 2022-03-08 16:50:56,534 | trace_stack_regi.py | dir_exist_check] (line 62) ./data already exist :: info logger\n",
      "[INFO | 2022-03-08 16:50:56,558 | trace_stack_regi.py | dir_exist_check] (line 62) ./crop_data already exist :: info logger\n",
      "[INFO | 2022-03-08 16:50:56,559 | trace_stack_regi.py | dir_exist_check] (line 62) ./registration already exist :: info logger\n",
      "[INFO | 2022-03-08 16:50:56,559 | trace_stack_regi.py | search_regi_files] (line 160) Directory existence check complete :: info logger\n",
      "[INFO | 2022-03-08 16:50:56,561 | trace_stack_regi.py | unique_counter] (line 103) start unique id count :: info logger\n",
      "[INFO | 2022-03-08 16:50:56,579 | trace_stack_regi.py | dir_exist_check] (line 62) ./registration\\#000001 already exist :: info logger\n"
     ]
    }
   ],
   "source": [
    "file_path_regi = search_regi_files(raw_path='./data', regi_path='./registration')\n",
    "segment_crop(file_path_regi)\n",
    "regi_cropped_img()"
   ]
  },
  {
   "cell_type": "code",
   "execution_count": 7,
   "metadata": {},
   "outputs": [
    {
     "name": "stdout",
     "output_type": "stream",
     "text": [
      "aaaaaaa 벽\n",
      "aaaaaaa 력\n",
      "aaaaaaa 일\n",
      "aaaaaaa 섬\n"
     ]
    }
   ],
   "source": [
    "from PIL import ImageFont, ImageDraw, Image\n",
    "import cv2\n",
    "import time\n",
    "import numpy as np\n",
    "def drawtextimage(word: str):\n",
    "        print('aaaaaaa', word)\n",
    "        #배경 이미지의 크기\n",
    "        W, H = (200, 200) \n",
    "        #배경 이미지를 흰색으로 하여 생성\n",
    "        image = Image.new('RGB', (W, H), (255, 255, 255)) \n",
    "        #해당 폰트와 사이즈 설정\n",
    "        font = ImageFont.truetype('서울한강 장체B.ttf', size=200) \n",
    "        #이미지 생성\n",
    "        draw = ImageDraw.Draw(image) \n",
    "        #글자의 크기\n",
    "        w, h = draw.textsize(word, font=font) \n",
    "        #배경 이미지와 글자의 크기를 이용하여 배경 중간에 글자 배치\n",
    "        draw.text(((W - w) / 2, (H - h) / 2), word, fill=\"black\", font=font) \n",
    "        #이미지 저장\n",
    "        # image.save(f\"{title}{e}.jpg\")\n",
    "        return image, W, H\n",
    "for idx, i in enumerate('벽력일섬'):\n",
    "    cv2.namedWindow(str(idx))\n",
    "    cv2.resizeWindow(str(idx), idx*100, idx*100)\n",
    "    # img = cv2.imread(\"aaa.jpg\")\n",
    "    img, W, H = drawtextimage(i)\n",
    "    cv2.moveWindow(str(idx), W, H)\n",
    "    cv2.imshow(str(idx), np.array(img))\n",
    "    cv2.waitKey(25)\n",
    "    time.sleep(0.5)\n",
    "#     cv2.destroyWindow(str(idx))\n",
    "\n"
   ]
  },
  {
   "cell_type": "code",
   "execution_count": 69,
   "metadata": {},
   "outputs": [],
   "source": [
    "MRbead = cv2.imread('MR_bead.tif')\n",
    "FLbead = cv2.imread('FL_bead.tif')\n",
    "MRno = cv2.imread('MR_bead_nobrain.tif')\n",
    "FLno = cv2.imread('FL_bead_nobrain.tif')"
   ]
  },
  {
   "cell_type": "code",
   "execution_count": 62,
   "metadata": {},
   "outputs": [
    {
     "data": {
      "text/plain": [
       "((357, 457, 3), (403, 402, 3))"
      ]
     },
     "execution_count": 62,
     "metadata": {},
     "output_type": "execute_result"
    }
   ],
   "source": [
    "MRbead.shape, FLbead.shape"
   ]
  },
  {
   "cell_type": "code",
   "execution_count": 65,
   "metadata": {},
   "outputs": [],
   "source": [
    "MRresize = cv2.resize(MRbead[13:-13, 13:-13, :], dsize=(357, 457))\n",
    "FLresize = cv2.resize(FLbead[13:-13, 13:-13, :], dsize=(357, 457))"
   ]
  },
  {
   "cell_type": "code",
   "execution_count": 66,
   "metadata": {},
   "outputs": [
    {
     "data": {
      "text/plain": [
       "((457, 357, 3), (457, 357, 3))"
      ]
     },
     "execution_count": 66,
     "metadata": {},
     "output_type": "execute_result"
    }
   ],
   "source": [
    "FLresize.shape, MRresize.shape"
   ]
  },
  {
   "cell_type": "code",
   "execution_count": 70,
   "metadata": {},
   "outputs": [
    {
     "data": {
      "text/plain": [
       "<matplotlib.image.AxesImage at 0x197233b2fd0>"
      ]
     },
     "execution_count": 70,
     "metadata": {},
     "output_type": "execute_result"
    },
    {
     "data": {
      "image/png": "[encoded data removed]",
      "text/plain": [
       "<Figure size 432x288 with 4 Axes>"
      ]
     },
     "metadata": {
      "needs_background": "light"
     },
     "output_type": "display_data"
    }
   ],
   "source": [
    "fig, ax = plt.subplots(nrows=1, ncols=4)\n",
    "ax[0].imshow(MRbead)\n",
    "ax[1].imshow(FLbead)\n",
    "ax[2].imshow(MRno)\n",
    "ax[3].imshow(FLno)"
   ]
  },
  {
   "cell_type": "code",
   "execution_count": 74,
   "metadata": {},
   "outputs": [],
   "source": [
    "from pystackreg import StackReg\n",
    "from pystackreg.util import to_uint16\n",
    "sr = StackReg(StackReg.AFFINE)\n",
    "sr.register(MRno[:, :, 0], FLno[:, :, 1]) # register 2nd image to 1st image in x, y position\n",
    "transformed = to_uint16(sr.transform(FLbead[:, :, 1])) # apply transform and clip negative value"
   ]
  },
  {
   "cell_type": "code",
   "execution_count": 75,
   "metadata": {},
   "outputs": [
    {
     "data": {
      "text/plain": [
       "<matplotlib.image.AxesImage at 0x197235fbf70>"
      ]
     },
     "execution_count": 75,
     "metadata": {},
     "output_type": "execute_result"
    },
    {
     "data": {
      "image/png": "[encoded data removed]",
      "text/plain": [
       "<Figure size 432x288 with 2 Axes>"
      ]
     },
     "metadata": {
      "needs_background": "light"
     },
     "output_type": "display_data"
    }
   ],
   "source": [
    "fig, ax = plt.subplots(nrows=1, ncols=2)\n",
    "ax[0].imshow(MRbead)\n",
    "ax[1].imshow(transformed)"
   ]
  },
  {
   "cell_type": "code",
   "execution_count": 77,
   "metadata": {},
   "outputs": [
    {
     "data": {
      "text/plain": [
       "True"
      ]
     },
     "execution_count": 77,
     "metadata": {},
     "output_type": "execute_result"
    }
   ],
   "source": [
    "cv2.imwrite('transformed.tif', transformed)"
   ]
  },
  {
   "cell_type": "code",
   "execution_count": 4,
   "metadata": {},
   "outputs": [
    {
     "ename": "error",
     "evalue": "OpenCV(4.5.5) D:\\a\\opencv-python\\opencv-python\\opencv\\modules\\imgcodecs\\src\\loadsave.cpp:801: error: (-215:Assertion failed) !_img.empty() in function 'cv::imwrite'\n",
     "output_type": "error",
     "traceback": [
      "\u001b[1;31m---------------------------------------------------------------------------\u001b[0m",
      "\u001b[1;31merror\u001b[0m                                     Traceback (most recent call last)",
      "\u001b[1;32me:\\Spruce Dropbox\\Jo Yongjae\\Notebook\\programming\\python\\shregi\\test.ipynb Cell 4'\u001b[0m in \u001b[0;36m<module>\u001b[1;34m\u001b[0m\n\u001b[0;32m     <a href='vscode-notebook-cell:/e%3A/Spruce%20Dropbox/Jo%20Yongjae/Notebook/programming/python/shregi/test.ipynb#ch0000017?line=12'>13</a>\u001b[0m         \u001b[39mbreak\u001b[39;00m\n\u001b[0;32m     <a href='vscode-notebook-cell:/e%3A/Spruce%20Dropbox/Jo%20Yongjae/Notebook/programming/python/shregi/test.ipynb#ch0000017?line=13'>14</a>\u001b[0m     now \u001b[39m=\u001b[39m datetime\u001b[39m.\u001b[39mdatetime\u001b[39m.\u001b[39mnow()\u001b[39m.\u001b[39mstrftime(\u001b[39m\"\u001b[39m\u001b[39m%d\u001b[39;00m\u001b[39m_\u001b[39m\u001b[39m%\u001b[39m\u001b[39mH-\u001b[39m\u001b[39m%\u001b[39m\u001b[39mM-\u001b[39m\u001b[39m%\u001b[39m\u001b[39mS\u001b[39m\u001b[39m\"\u001b[39m)\n\u001b[1;32m---> <a href='vscode-notebook-cell:/e%3A/Spruce%20Dropbox/Jo%20Yongjae/Notebook/programming/python/shregi/test.ipynb#ch0000017?line=14'>15</a>\u001b[0m     cv2\u001b[39m.\u001b[39;49mimwrite(\u001b[39mf\u001b[39;49m\u001b[39m'\u001b[39;49m\u001b[39m./text image/\u001b[39;49m\u001b[39m{\u001b[39;49;00mnow\u001b[39m}\u001b[39;49;00m\u001b[39m.png\u001b[39;49m\u001b[39m'\u001b[39;49m, frame)\n\u001b[0;32m     <a href='vscode-notebook-cell:/e%3A/Spruce%20Dropbox/Jo%20Yongjae/Notebook/programming/python/shregi/test.ipynb#ch0000017?line=16'>17</a>\u001b[0m capture\u001b[39m.\u001b[39mrelease()\n\u001b[0;32m     <a href='vscode-notebook-cell:/e%3A/Spruce%20Dropbox/Jo%20Yongjae/Notebook/programming/python/shregi/test.ipynb#ch0000017?line=17'>18</a>\u001b[0m cv2\u001b[39m.\u001b[39mdestroyAllWindows()\n",
      "\u001b[1;31merror\u001b[0m: OpenCV(4.5.5) D:\\a\\opencv-python\\opencv-python\\opencv\\modules\\imgcodecs\\src\\loadsave.cpp:801: error: (-215:Assertion failed) !_img.empty() in function 'cv::imwrite'\n"
     ]
    }
   ],
   "source": [
    "import datetime\n",
    "import cv2\n",
    "\n",
    "capture = cv2.VideoCapture('text image/벽력일섬.mp4')\n",
    "# capture.set(cv2.CAP_PROP_FRAME_WIDTH, 150)\n",
    "# capture.set(cv2.CAP_PROP_FRAME_HEIGHT, 150)\n",
    "# fourcc = cv2.VideoWriter_fourcc(*'XVID')\n",
    "\n",
    "i = 0\n",
    "while True:\n",
    "    ret, frame = capture.read()\n",
    "    key = cv2.waitKey(10)\n",
    "    if key==27:\n",
    "        break\n",
    "    now = datetime.datetime.now().strftime(\"%d_%H-%M-%S\")\n",
    "    cv2.imwrite(f'./text image/{now}.png', frame)\n",
    "\n",
    "capture.release()\n",
    "cv2.destroyAllWindows()"
   ]
  },
  {
   "cell_type": "code",
   "execution_count": 15,
   "metadata": {},
   "outputs": [
    {
     "data": {
      "text/plain": [
       "True"
      ]
     },
     "execution_count": 15,
     "metadata": {},
     "output_type": "execute_result"
    }
   ],
   "source": [
    "os.path.isdir('./text image')"
   ]
  },
  {
   "cell_type": "code",
   "execution_count": 16,
   "metadata": {},
   "outputs": [
    {
     "data": {
      "text/plain": [
       "True"
      ]
     },
     "execution_count": 16,
     "metadata": {},
     "output_type": "execute_result"
    }
   ],
   "source": [
    "os.path.isfile('text image/08_17-38-24.png')"
   ]
  },
  {
   "cell_type": "code",
   "execution_count": 17,
   "metadata": {},
   "outputs": [],
   "source": [
    "aaa = cv2.imread('./text image/08_17-43-58.png')"
   ]
  },
  {
   "cell_type": "code",
   "execution_count": 18,
   "metadata": {},
   "outputs": [
    {
     "data": {
      "text/plain": [
       "(1080, 1920, 3)"
      ]
     },
     "execution_count": 18,
     "metadata": {},
     "output_type": "execute_result"
    }
   ],
   "source": [
    "+ [(f'.\\\\text image\\\\{img}', 'text image') for img in os.listdir('./text image) if img.endswith('.png')],"
   ]
  },
  {
   "cell_type": "code",
   "execution_count": null,
   "metadata": {},
   "outputs": [],
   "source": [
    "pathex=['.', '.\\\\pkg'],\n",
    "binaries=[],\n",
    "datas=[('.\\\\text image', '.\\\\text image'), ('seoulfont.ttf', 'seoulfont.ttf')],\n",
    "hiddenimports=['importlib_resources.trees', 'pkg_resources.py2_warn', 'pkg_resources.markers'],"
   ]
  },
  {
   "cell_type": "code",
   "execution_count": 1,
   "metadata": {},
   "outputs": [],
   "source": [
    "from PIL import ImageFont, ImageDraw, Image\n",
    "\n",
    "for title in [\"hiragana\", \"katakana\"]:\n",
    "    jpn = ['asdf']\n",
    "    eng = ['a']\n",
    "\n",
    "    for j, e in zip(jpn, eng):\n",
    "        #배경 이미지의 크기\n",
    "\n",
    "        W, H = (200, 200) \n",
    "        #배경 이미지를 흰색으로 하여 생성\n",
    "        image = Image.new('RGB', (W, H), (255, 255, 255)) \n",
    "        #해당 폰트와 사이즈 설정\n",
    "        font = ImageFont.truetype(\"arial.ttf\", size=200) \n",
    "        #이미지 생성\n",
    "        draw = ImageDraw.Draw(image) \n",
    "        #글자의 크기\n",
    "        w, h = draw.textsize(e, font=font) \n",
    "        #배경 이미지와 글자의 크기를 이용하여 배경 중간에 글자 배치\n",
    "        draw.text(((W - w) / 2, (H - h) / 2), e, fill=\"black\", font=font) \n",
    "        #이미지 저장\n",
    "        # image.save(f\"{title}{e}.jpg\")"
   ]
  },
  {
   "cell_type": "code",
   "execution_count": 34,
   "metadata": {},
   "outputs": [
    {
     "data": {
      "text/plain": [
       "<matplotlib.image.AxesImage at 0x225622d36a0>"
      ]
     },
     "execution_count": 34,
     "metadata": {},
     "output_type": "execute_result"
    },
    {
     "data": {
      "image/png": "[encoded data removed]",
      "text/plain": [
       "<Figure size 432x288 with 1 Axes>"
      ]
     },
     "metadata": {
      "needs_background": "light"
     },
     "output_type": "display_data"
    }
   ],
   "source": [
    "plt.imshow(image)"
   ]
  },
  {
   "cell_type": "code",
   "execution_count": 4,
   "metadata": {},
   "outputs": [
    {
     "ename": "TclError",
     "evalue": "couldn't recognize data in image file \"aaa.jpg\"",
     "output_type": "error",
     "traceback": [
      "\u001b[1;31m---------------------------------------------------------------------------\u001b[0m",
      "\u001b[1;31mTclError\u001b[0m                                  Traceback (most recent call last)",
      "\u001b[1;32me:\\Spruce Dropbox\\Jo Yongjae\\Notebook\\programming\\python\\shregi\\test.ipynb Cell 3'\u001b[0m in \u001b[0;36m<module>\u001b[1;34m\u001b[0m\n\u001b[0;32m      <a href='vscode-notebook-cell:/e%3A/Spruce%20Dropbox/Jo%20Yongjae/Notebook/programming/python/shregi/test.ipynb#ch0000012?line=2'>3</a>\u001b[0m Window\u001b[39m=\u001b[39mTk()\n\u001b[0;32m      <a href='vscode-notebook-cell:/e%3A/Spruce%20Dropbox/Jo%20Yongjae/Notebook/programming/python/shregi/test.ipynb#ch0000012?line=3'>4</a>\u001b[0m ListePhoto\u001b[39m=\u001b[39m\u001b[39mlist\u001b[39m()\n\u001b[1;32m----> <a href='vscode-notebook-cell:/e%3A/Spruce%20Dropbox/Jo%20Yongjae/Notebook/programming/python/shregi/test.ipynb#ch0000012?line=4'>5</a>\u001b[0m ListePhoto\u001b[39m.\u001b[39mappend(PhotoImage(file\u001b[39m=\u001b[39;49m\u001b[39m'\u001b[39;49m\u001b[39maaa.jpg\u001b[39;49m\u001b[39m'\u001b[39;49m))\n\u001b[0;32m      <a href='vscode-notebook-cell:/e%3A/Spruce%20Dropbox/Jo%20Yongjae/Notebook/programming/python/shregi/test.ipynb#ch0000012?line=6'>7</a>\u001b[0m \u001b[39mdef\u001b[39;00m \u001b[39mTry\u001b[39m():\n\u001b[0;32m     <a href='vscode-notebook-cell:/e%3A/Spruce%20Dropbox/Jo%20Yongjae/Notebook/programming/python/shregi/test.ipynb#ch0000012?line=9'>10</a>\u001b[0m     Window\u001b[39m.\u001b[39mtitle(\u001b[39m'\u001b[39m\u001b[39mimage\u001b[39m\u001b[39m'\u001b[39m)\n",
      "File \u001b[1;32m~\\anaconda3\\envs\\regi\\lib\\tkinter\\__init__.py:4064\u001b[0m, in \u001b[0;36mPhotoImage.__init__\u001b[1;34m(self, name, cnf, master, **kw)\u001b[0m\n\u001b[0;32m   <a href='file:///c%3A/Users/spruce/anaconda3/envs/regi/lib/tkinter/__init__.py?line=4058'>4059</a>\u001b[0m \u001b[39mdef\u001b[39;00m \u001b[39m__init__\u001b[39m(\u001b[39mself\u001b[39m, name\u001b[39m=\u001b[39m\u001b[39mNone\u001b[39;00m, cnf\u001b[39m=\u001b[39m{}, master\u001b[39m=\u001b[39m\u001b[39mNone\u001b[39;00m, \u001b[39m*\u001b[39m\u001b[39m*\u001b[39mkw):\n\u001b[0;32m   <a href='file:///c%3A/Users/spruce/anaconda3/envs/regi/lib/tkinter/__init__.py?line=4059'>4060</a>\u001b[0m     \u001b[39m\"\"\"Create an image with NAME.\u001b[39;00m\n\u001b[0;32m   <a href='file:///c%3A/Users/spruce/anaconda3/envs/regi/lib/tkinter/__init__.py?line=4060'>4061</a>\u001b[0m \n\u001b[0;32m   <a href='file:///c%3A/Users/spruce/anaconda3/envs/regi/lib/tkinter/__init__.py?line=4061'>4062</a>\u001b[0m \u001b[39m    Valid resource names: data, format, file, gamma, height, palette,\u001b[39;00m\n\u001b[0;32m   <a href='file:///c%3A/Users/spruce/anaconda3/envs/regi/lib/tkinter/__init__.py?line=4062'>4063</a>\u001b[0m \u001b[39m    width.\"\"\"\u001b[39;00m\n\u001b[1;32m-> <a href='file:///c%3A/Users/spruce/anaconda3/envs/regi/lib/tkinter/__init__.py?line=4063'>4064</a>\u001b[0m     Image\u001b[39m.\u001b[39;49m\u001b[39m__init__\u001b[39;49m(\u001b[39mself\u001b[39;49m, \u001b[39m'\u001b[39;49m\u001b[39mphoto\u001b[39;49m\u001b[39m'\u001b[39;49m, name, cnf, master, \u001b[39m*\u001b[39;49m\u001b[39m*\u001b[39;49mkw)\n",
      "File \u001b[1;32m~\\anaconda3\\envs\\regi\\lib\\tkinter\\__init__.py:4009\u001b[0m, in \u001b[0;36mImage.__init__\u001b[1;34m(self, imgtype, name, cnf, master, **kw)\u001b[0m\n\u001b[0;32m   <a href='file:///c%3A/Users/spruce/anaconda3/envs/regi/lib/tkinter/__init__.py?line=4006'>4007</a>\u001b[0m         v \u001b[39m=\u001b[39m \u001b[39mself\u001b[39m\u001b[39m.\u001b[39m_register(v)\n\u001b[0;32m   <a href='file:///c%3A/Users/spruce/anaconda3/envs/regi/lib/tkinter/__init__.py?line=4007'>4008</a>\u001b[0m     options \u001b[39m=\u001b[39m options \u001b[39m+\u001b[39m (\u001b[39m'\u001b[39m\u001b[39m-\u001b[39m\u001b[39m'\u001b[39m\u001b[39m+\u001b[39mk, v)\n\u001b[1;32m-> <a href='file:///c%3A/Users/spruce/anaconda3/envs/regi/lib/tkinter/__init__.py?line=4008'>4009</a>\u001b[0m \u001b[39mself\u001b[39;49m\u001b[39m.\u001b[39;49mtk\u001b[39m.\u001b[39;49mcall((\u001b[39m'\u001b[39;49m\u001b[39mimage\u001b[39;49m\u001b[39m'\u001b[39;49m, \u001b[39m'\u001b[39;49m\u001b[39mcreate\u001b[39;49m\u001b[39m'\u001b[39;49m, imgtype, name,) \u001b[39m+\u001b[39;49m options)\n\u001b[0;32m   <a href='file:///c%3A/Users/spruce/anaconda3/envs/regi/lib/tkinter/__init__.py?line=4009'>4010</a>\u001b[0m \u001b[39mself\u001b[39m\u001b[39m.\u001b[39mname \u001b[39m=\u001b[39m name\n",
      "\u001b[1;31mTclError\u001b[0m: couldn't recognize data in image file \"aaa.jpg\""
     ]
    }
   ],
   "source": [
    "from tkinter import *\n",
    "\n",
    "Window=Tk()\n",
    "ListePhoto=list()\n",
    "ListePhoto.append(PhotoImage(file='aaa.jpg'))\n",
    "\n",
    "def Try():\n",
    "\n",
    "\n",
    "    Window.title('image')\n",
    "    Window.geometry('+0+0')\n",
    "    Window.configure(bg='white')\n",
    "\n",
    "    DisplayImage()\n",
    "\n",
    "def DisplayImage():\n",
    "\n",
    "    label_frame=LabelFrame(Window, relief='ridge', borderwidth=12, text=\"AnImage\",\n",
    "                         font='Arial 16 bold',bg='lightblue',fg='black')\n",
    "    ListeBouttons=list()#Liste Vide pour les Radiobutton(s)\n",
    "\n",
    "    RadioButton = Radiobutton(label_frame,text=\"notext\",image=ListePhoto[0], indicatoron=0)\n",
    "    RadioButton.grid(row=1,column=1)\n",
    "    label_frame.pack(side=\"left\")\n"
   ]
  },
  {
   "cell_type": "code",
   "execution_count": 12,
   "metadata": {},
   "outputs": [],
   "source": [
    "import tkinter as tk\n",
    "from PIL import Image , ImageTk"
   ]
  },
  {
   "cell_type": "code",
   "execution_count": null,
   "metadata": {},
   "outputs": [],
   "source": [
    "import tkinter as tk\n",
    "\n",
    "def popupmsg(msg, title):\n",
    "    root = tk.Tk()\n",
    "    root.title(title)\n",
    "    label = tk.Label(root, text=msg)\n",
    "    label.pack(side=\"top\", fill=\"x\", pady=10)\n",
    "    B1 = tk.Button(root, text=\"Okay\", command = root.destroy)\n",
    "    B1.pack()\n",
    "    popup.mainloop()"
   ]
  },
  {
   "cell_type": "code",
   "execution_count": 1,
   "metadata": {},
   "outputs": [],
   "source": [
    "import cv2\n",
    "img = cv2.imread('aaa.jpg')\n",
    " \n",
    "cv2.imshow('sample image',img)"
   ]
  },
  {
   "cell_type": "code",
   "execution_count": 18,
   "metadata": {},
   "outputs": [
    {
     "name": "stderr",
     "output_type": "stream",
     "text": [
      "Exception in Tkinter callback\n",
      "Traceback (most recent call last):\n",
      "  File \"C:\\Users\\spruce\\anaconda3\\envs\\regi\\lib\\tkinter\\__init__.py\", line 1892, in __call__\n",
      "    return self.func(*args)\n",
      "  File \"C:\\Users\\spruce\\AppData\\Local\\Temp\\ipykernel_26300\\2746296939.py\", line 8, in button1\n",
      "    gif1 = PhotoImage(file = 'aaa.jpg')\n",
      "  File \"C:\\Users\\spruce\\anaconda3\\envs\\regi\\lib\\tkinter\\__init__.py\", line 4064, in __init__\n",
      "    Image.__init__(self, 'photo', name, cnf, master, **kw)\n",
      "  File \"C:\\Users\\spruce\\anaconda3\\envs\\regi\\lib\\tkinter\\__init__.py\", line 4009, in __init__\n",
      "    self.tk.call(('image', 'create', imgtype, name,) + options)\n",
      "_tkinter.TclError: couldn't recognize data in image file \"aaa.jpg\"\n"
     ]
    }
   ],
   "source": [
    "import sys\n",
    "from tkinter import * #or Tkinter if you're on Python2.7\n",
    "\n",
    "def button1():\n",
    "    novi = Toplevel()\n",
    "    canvas = Canvas(novi, width = 300, height = 200)\n",
    "    canvas.pack(expand = YES, fill = BOTH)\n",
    "    gif1 = PhotoImage(file = 'aaa.jpg')\n",
    "                                #image not visual\n",
    "    canvas.create_image(50, 10, image = gif1, anchor = NW)\n",
    "    #assigned the gif1 to the canvas object\n",
    "    canvas.gif1 = gif1\n",
    "\n",
    "\n",
    "mGui = Tk()\n",
    "button1 = Button(mGui,text ='Sklop',command = button1, height=5, width=20).pack()\n",
    "\n",
    "mGui.mainloop()"
   ]
  },
  {
   "cell_type": "code",
   "execution_count": 14,
   "metadata": {},
   "outputs": [],
   "source": []
  },
  {
   "cell_type": "code",
   "execution_count": 4,
   "metadata": {},
   "outputs": [],
   "source": [
    "import numpy as np\n",
    "from numpy.random import uniform"
   ]
  },
  {
   "cell_type": "code",
   "execution_count": 10,
   "metadata": {},
   "outputs": [
    {
     "data": {
      "text/plain": [
       "True"
      ]
     },
     "execution_count": 10,
     "metadata": {},
     "output_type": "execute_result"
    }
   ],
   "source": [
    "good_luck =140\n",
    "((good_luck >= 0) and (good_luck < 7)) or ((good_luck >= 9) and (good_luck < 300))"
   ]
  },
  {
   "cell_type": "code",
   "execution_count": 7,
   "metadata": {},
   "outputs": [],
   "source": [
    "aa = np.floor(uniform(0, 100))"
   ]
  }
 ],
 "metadata": {
  "interpreter": {
   "hash": "44bb27ec67b6bd9da26319ab2fe8b33c0b80ef76490c056f1bb4a5d1fbebca3d"
  },
  "kernelspec": {
   "display_name": "Python 3.6.13 ('converter')",
   "language": "python",
   "name": "python3"
  },
  "language_info": {
   "codemirror_mode": {
    "name": "ipython",
    "version": 3
   },
   "file_extension": ".py",
   "mimetype": "text/x-python",
   "name": "python",
   "nbconvert_exporter": "python",
   "pygments_lexer": "ipython3",
   "version": "3.8.12"
  },
  "orig_nbformat": 4
 },
 "nbformat": 4,
 "nbformat_minor": 2
}
