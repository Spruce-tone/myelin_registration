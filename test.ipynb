{
 "cells": [
  {
   "cell_type": "code",
   "execution_count": 1,
   "metadata": {},
   "outputs": [],
   "source": [
    "%reload_ext autoreload\n",
    "%autoreload 2\n",
    "\n",
    "import gzip\n",
    "import xml.etree.ElementTree as ET\n",
    "import os\n",
    "from pkg.traceparser import extractTrace\n",
    "from pkg.traceparser import search_regi_files\n",
    "from pkg.traceparser import segment_registration\n",
    "\n",
    "import sys\n",
    "import numpy as np\n",
    "from matplotlib import pyplot as plt\n",
    "from skimage import transform, io, exposure\n",
    "\n",
    "# from pystackreg import StackReg\n",
    "# import pystackreg"
   ]
  },
  {
   "cell_type": "code",
   "execution_count": 2,
   "metadata": {},
   "outputs": [
    {
     "name": "stdout",
     "output_type": "stream",
     "text": [
      "[INFO | 2022-03-04 02:53:41,437 | traceparser.py | dir_exist_check] (line 53) ./data already exist :: info logger\n",
      "[INFO | 2022-03-04 02:53:41,441 | traceparser.py | dir_exist_check] (line 53) ./registration already exist :: info logger\n",
      "[INFO | 2022-03-04 02:53:41,444 | traceparser.py | search_regi_files] (line 147) Directory existence check complete :: info logger\n",
      "[INFO | 2022-03-04 02:53:41,449 | traceparser.py | unique_counter] (line 91) start unique id count :: info logger\n",
      "[INFO | 2022-03-04 02:53:41,458 | traceparser.py | unique_counter] (line 91) start unique id count :: info logger\n"
     ]
    }
   ],
   "source": [
    "files = search_regi_files()\n",
    "# path = segment_registration(files)"
   ]
  },
  {
   "cell_type": "code",
   "execution_count": 8,
   "metadata": {},
   "outputs": [],
   "source": [
    "a, b, c = (1, 2, 3)"
   ]
  },
  {
   "cell_type": "code",
   "execution_count": 3,
   "metadata": {},
   "outputs": [
    {
     "data": {
      "text/plain": [
       "{'000001': [('#000001 d1 D1-filter & z scaling X 5.tif',\n",
       "   '#000001 d1 D1-filter & z scaling X 5.traces'),\n",
       "  ('#000001 d5 D5-filter & z scaling X 5.tif',\n",
       "   '#000001 d5 D5-filter & z scaling X 5.traces')]}"
      ]
     },
     "execution_count": 3,
     "metadata": {},
     "output_type": "execute_result"
    }
   ],
   "source": [
    "files"
   ]
  },
  {
   "cell_type": "code",
   "execution_count": 4,
   "metadata": {},
   "outputs": [],
   "source": [
    "path['1-1-1']\n",
    "\n",
    "def path_to_array(path):\n",
    "    path = np.array([path['x'], path['y'], path['z']])\n",
    "    return path\n",
    "\n",
    "kk = path_to_array(path['1-1-1'])"
   ]
  },
  {
   "cell_type": "code",
   "execution_count": 6,
   "metadata": {},
   "outputs": [
    {
     "data": {
      "text/plain": [
       "151"
      ]
     },
     "execution_count": 6,
     "metadata": {},
     "output_type": "execute_result"
    }
   ],
   "source": [
    "kk[0, :].min()"
   ]
  },
  {
   "cell_type": "code",
   "execution_count": 20,
   "metadata": {},
   "outputs": [],
   "source": [
    "ii = io.imread('./data/#000001 d1 D1-filter & z scaling X 5.tif')"
   ]
  },
  {
   "cell_type": "code",
   "execution_count": 24,
   "metadata": {},
   "outputs": [],
   "source": [
    "transformations = {\n",
    "    'TRANSLATION': StackReg.TRANSLATION,\n",
    "    'RIGID_BODY': StackReg.RIGID_BODY,\n",
    "    'SCALED_ROTATION': StackReg.SCALED_ROTATION,\n",
    "    'AFFINE': StackReg.AFFINE,\n",
    "    'BILINEAR': StackReg.BILINEAR\n",
    "}"
   ]
  },
  {
   "cell_type": "code",
   "execution_count": 26,
   "metadata": {},
   "outputs": [
    {
     "ename": "ValueError",
     "evalue": "Input arrays must of the same shape",
     "output_type": "error",
     "traceback": [
      "\u001b[1;31m---------------------------------------------------------------------------\u001b[0m",
      "\u001b[1;31mValueError\u001b[0m                                Traceback (most recent call last)",
      "Input \u001b[1;32mIn [26]\u001b[0m, in \u001b[0;36m<module>\u001b[1;34m\u001b[0m\n\u001b[0;32m      1\u001b[0m sr \u001b[39m=\u001b[39m StackReg(StackReg\u001b[39m.\u001b[39mRIGID_BODY)\n\u001b[1;32m----> 2\u001b[0m reg \u001b[39m=\u001b[39m sr\u001b[39m.\u001b[39;49mregister_transform(ii\u001b[39m.\u001b[39;49mmean(axis\u001b[39m=\u001b[39;49m\u001b[39m0\u001b[39;49m)[:\u001b[39m100\u001b[39;49m, :\u001b[39m100\u001b[39;49m], ii\u001b[39m.\u001b[39;49mmean(axis\u001b[39m=\u001b[39;49m\u001b[39m0\u001b[39;49m)[:\u001b[39m120\u001b[39;49m, :\u001b[39m120\u001b[39;49m])\n",
      "File \u001b[1;32m~\\miniconda3\\envs\\regi\\lib\\site-packages\\pystackreg\\pystackreg.py:191\u001b[0m, in \u001b[0;36mStackReg.register_transform\u001b[1;34m(self, ref, mov)\u001b[0m\n\u001b[0;32m    <a href='file:///~/miniconda3/envs/regi/lib/site-packages/pystackreg/pystackreg.py?line=176'>177</a>\u001b[0m \u001b[39mdef\u001b[39;00m \u001b[39mregister_transform\u001b[39m(\u001b[39mself\u001b[39m, ref, mov):\n\u001b[0;32m    <a href='file:///~/miniconda3/envs/regi/lib/site-packages/pystackreg/pystackreg.py?line=177'>178</a>\u001b[0m     \u001b[39m\"\"\"\u001b[39;00m\n\u001b[0;32m    <a href='file:///~/miniconda3/envs/regi/lib/site-packages/pystackreg/pystackreg.py?line=178'>179</a>\u001b[0m \u001b[39m    Register and transform an image to a reference image.\u001b[39;00m\n\u001b[0;32m    <a href='file:///~/miniconda3/envs/regi/lib/site-packages/pystackreg/pystackreg.py?line=179'>180</a>\u001b[0m \n\u001b[1;32m   (...)\u001b[0m\n\u001b[0;32m    <a href='file:///~/miniconda3/envs/regi/lib/site-packages/pystackreg/pystackreg.py?line=188'>189</a>\u001b[0m \u001b[39m             (cropping may occur)\u001b[39;00m\n\u001b[0;32m    <a href='file:///~/miniconda3/envs/regi/lib/site-packages/pystackreg/pystackreg.py?line=189'>190</a>\u001b[0m \u001b[39m    \"\"\"\u001b[39;00m\n\u001b[1;32m--> <a href='file:///~/miniconda3/envs/regi/lib/site-packages/pystackreg/pystackreg.py?line=190'>191</a>\u001b[0m     \u001b[39mself\u001b[39;49m\u001b[39m.\u001b[39;49mregister(ref, mov)\n\u001b[0;32m    <a href='file:///~/miniconda3/envs/regi/lib/site-packages/pystackreg/pystackreg.py?line=191'>192</a>\u001b[0m     \u001b[39mreturn\u001b[39;00m \u001b[39mself\u001b[39m\u001b[39m.\u001b[39mtransform(mov)\n",
      "File \u001b[1;32m~\\miniconda3\\envs\\regi\\lib\\site-packages\\pystackreg\\pystackreg.py:144\u001b[0m, in \u001b[0;36mStackReg.register\u001b[1;34m(self, ref, mov)\u001b[0m\n\u001b[0;32m    <a href='file:///~/miniconda3/envs/regi/lib/site-packages/pystackreg/pystackreg.py?line=126'>127</a>\u001b[0m \u001b[39m\"\"\"\u001b[39;00m\n\u001b[0;32m    <a href='file:///~/miniconda3/envs/regi/lib/site-packages/pystackreg/pystackreg.py?line=127'>128</a>\u001b[0m \u001b[39mRegisters an image to a reference image: Only the transformation matrix\u001b[39;00m\n\u001b[0;32m    <a href='file:///~/miniconda3/envs/regi/lib/site-packages/pystackreg/pystackreg.py?line=128'>129</a>\u001b[0m \u001b[39mwill be calculated, the image will not be transformed\u001b[39;00m\n\u001b[1;32m   (...)\u001b[0m\n\u001b[0;32m    <a href='file:///~/miniconda3/envs/regi/lib/site-packages/pystackreg/pystackreg.py?line=139'>140</a>\u001b[0m \u001b[39m:return: 2D transformation matrix\u001b[39;00m\n\u001b[0;32m    <a href='file:///~/miniconda3/envs/regi/lib/site-packages/pystackreg/pystackreg.py?line=140'>141</a>\u001b[0m \u001b[39m\"\"\"\u001b[39;00m\n\u001b[0;32m    <a href='file:///~/miniconda3/envs/regi/lib/site-packages/pystackreg/pystackreg.py?line=141'>142</a>\u001b[0m \u001b[39mself\u001b[39m\u001b[39m.\u001b[39m_is_registered \u001b[39m=\u001b[39m \u001b[39mTrue\u001b[39;00m\n\u001b[1;32m--> <a href='file:///~/miniconda3/envs/regi/lib/site-packages/pystackreg/pystackreg.py?line=143'>144</a>\u001b[0m \u001b[39mself\u001b[39m\u001b[39m.\u001b[39m_m, \u001b[39mself\u001b[39m\u001b[39m.\u001b[39m_refpts, \u001b[39mself\u001b[39m\u001b[39m.\u001b[39m_movpts \u001b[39m=\u001b[39m turboreg\u001b[39m.\u001b[39;49m_register(\n\u001b[0;32m    <a href='file:///~/miniconda3/envs/regi/lib/site-packages/pystackreg/pystackreg.py?line=144'>145</a>\u001b[0m     ref[:\u001b[39m-\u001b[39;49m\u001b[39m1\u001b[39;49m, :\u001b[39m-\u001b[39;49m\u001b[39m1\u001b[39;49m], mov[:\u001b[39m-\u001b[39;49m\u001b[39m1\u001b[39;49m, :\u001b[39m-\u001b[39;49m\u001b[39m1\u001b[39;49m], \u001b[39mself\u001b[39;49m\u001b[39m.\u001b[39;49m_transformation\n\u001b[0;32m    <a href='file:///~/miniconda3/envs/regi/lib/site-packages/pystackreg/pystackreg.py?line=145'>146</a>\u001b[0m )\n\u001b[0;32m    <a href='file:///~/miniconda3/envs/regi/lib/site-packages/pystackreg/pystackreg.py?line=147'>148</a>\u001b[0m \u001b[39mreturn\u001b[39;00m \u001b[39mself\u001b[39m\u001b[39m.\u001b[39mget_matrix()\n",
      "\u001b[1;31mValueError\u001b[0m: Input arrays must of the same shape"
     ]
    }
   ],
   "source": [
    "sr = StackReg(StackReg.RIGID_BODY)\n",
    "reg = sr.register_transform(ii.mean(axis=0)[:100, :100], ii.mean(axis=0)[:120, :120])"
   ]
  },
  {
   "cell_type": "code",
   "execution_count": null,
   "metadata": {},
   "outputs": [],
   "source": [
    "f, ax = plt.subplots(5, 2, figsize=(16, 18))\n",
    "\n",
    "for i, (name, tf) in enumerate(transformations.items()):\n",
    "    sr = StackReg(tf)\n",
    "    reg = sr.register_transform(ref, mov)\n",
    "    reg = reg.clip(min=0)\n",
    "\n",
    "    after_reg =  composite_images([ref, reg])\n",
    "\n",
    "    ax[i][0].imshow(after_reg, cmap='gray', vmin=0, vmax=1)\n",
    "    ax[i][0].set_title(name + ' (overlay on reference)')\n",
    "    ax[i][0].axis('off')\n",
    "\n",
    "    if name != 'BILINEAR':\n",
    "        show_transformation(sr.get_matrix(), ax[i][1])\n",
    "        ax[i][1].set_title(name + ' (applied on a rectangle)')\n",
    "    else:\n",
    "        ax[i][1].axis('off')"
   ]
  },
  {
   "cell_type": "code",
   "execution_count": 23,
   "metadata": {},
   "outputs": [
    {
     "data": {
      "text/plain": [
       "<matplotlib.image.AxesImage at 0x27772a20fd0>"
      ]
     },
     "execution_count": 23,
     "metadata": {},
     "output_type": "execute_result"
    },
    {
     "data": {
      "image/png": "[encoded data removed]",
      "text/plain": [
       "<Figure size 432x288 with 1 Axes>"
      ]
     },
     "metadata": {
      "needs_background": "light"
     },
     "output_type": "display_data"
    }
   ],
   "source": [
    "plt.imshow(ii.mean(axis=0))"
   ]
  },
  {
   "cell_type": "code",
   "execution_count": null,
   "metadata": {},
   "outputs": [],
   "source": []
  },
  {
   "cell_type": "code",
   "execution_count": 66,
   "metadata": {},
   "outputs": [
    {
     "data": {
      "text/plain": [
       "False"
      ]
     },
     "execution_count": 66,
     "metadata": {},
     "output_type": "execute_result"
    }
   ],
   "source": [
    "['1', '2'] == ['2', '1']"
   ]
  },
  {
   "cell_type": "code",
   "execution_count": 101,
   "metadata": {},
   "outputs": [
    {
     "data": {
      "text/plain": [
       "True"
      ]
     },
     "execution_count": 101,
     "metadata": {},
     "output_type": "execute_result"
    }
   ],
   "source": [
    "set(['1', '2', '3']) == set(['2', '3', '1'])"
   ]
  },
  {
   "cell_type": "code",
   "execution_count": 162,
   "metadata": {},
   "outputs": [
    {
     "data": {
      "text/plain": [
       "'#000001 d8 D1-filter & z scaling X 5'"
      ]
     },
     "execution_count": 162,
     "metadata": {},
     "output_type": "execute_result"
    }
   ],
   "source": [
    "'#000001 d8 D1-filter & z scaling X 5.traces'.strip('.traces')"
   ]
  },
  {
   "cell_type": "code",
   "execution_count": 107,
   "metadata": {},
   "outputs": [
    {
     "name": "stdout",
     "output_type": "stream",
     "text": [
      "#000001 d135 D1-filter & z scaling X 5.tif\n",
      "None\n",
      "#000001 d0 D1-filter & z scaling X 5\n",
      "None\n",
      "#000001 d8 D1-filter & z scaling X 5.traces\n",
      "None\n"
     ]
    },
    {
     "data": {
      "text/plain": [
       "['#000001 d0 D1-filter & z scaling X 5',\n",
       " '#000001 d8 D1-filter & z scaling X 5.traces',\n",
       " '#000001 d135 D1-filter & z scaling X 5.tif']"
      ]
     },
     "execution_count": 107,
     "metadata": {},
     "output_type": "execute_result"
    }
   ],
   "source": [
    "import re\n",
    "def key_function(fname):\n",
    "    parser = re.compile('(?P<fname>#(?P<unique_idx>(?P<id>\\w+) d(?P<day>\\d+))[ ]?(?P<description>.*)).?(?P<fname_extension>.+$)?')\n",
    "    \n",
    "    print(parser.search(fname).group())\n",
    "    print(parser.search(fname).group('fname_extension'))\n",
    "    parsed = parser.search(fname).group('day')\n",
    "    return int(parsed)\n",
    "\n",
    "sorted(['#000001 d135 D1-filter & z scaling X 5.tif', '#000001 d0 D1-filter & z scaling X 5', '#000001 d8 D1-filter & z scaling X 5.traces'], key=key_function)"
   ]
  },
  {
   "cell_type": "code",
   "execution_count": 63,
   "metadata": {},
   "outputs": [
    {
     "name": "stdout",
     "output_type": "stream",
     "text": [
      "0\n",
      "asdf\n",
      "2\n",
      "asdf\n",
      "4\n",
      "asdf\n",
      "6\n",
      "asdf\n",
      "8\n",
      "asdf\n"
     ]
    }
   ],
   "source": [
    "for i in range(10):\n",
    "    if i%2==1:\n",
    "        continue\n",
    "    \n",
    "    if i%2==0:\n",
    "        print(i)\n",
    "    \n",
    "    print('asdf')"
   ]
  },
  {
   "cell_type": "code",
   "execution_count": 26,
   "metadata": {},
   "outputs": [],
   "source": [
    "def af(*args):\n",
    "    print(args)\n",
    "\n",
    "def afaf(**args):\n",
    "    print(args)"
   ]
  },
  {
   "cell_type": "code",
   "execution_count": 28,
   "metadata": {},
   "outputs": [
    {
     "name": "stdout",
     "output_type": "stream",
     "text": [
      "(1, 2, 3)\n",
      "{'1': 1, '2': 2, '3': 3}\n"
     ]
    }
   ],
   "source": [
    "af(*(1, 2, 3))\n",
    "\n",
    "afaf(**{'1' : 1, '2' : 2, '3' : 3})"
   ]
  },
  {
   "cell_type": "code",
   "execution_count": 2,
   "metadata": {},
   "outputs": [
    {
     "data": {
      "text/plain": [
       "dict_values([2, 1, 1])"
      ]
     },
     "execution_count": 2,
     "metadata": {},
     "output_type": "execute_result"
    }
   ],
   "source": [
    "from collections import Counter\n",
    "\n",
    "words = ['a', 'b', 'c', 'a']\n",
    "\n",
    "Counter(words).keys() # equals to list(set(words))\n",
    "Counter(words).values() # counts the elements' frequency"
   ]
  },
  {
   "cell_type": "code",
   "execution_count": 159,
   "metadata": {},
   "outputs": [
    {
     "name": "stdout",
     "output_type": "stream",
     "text": [
      "<class 're.Pattern'>\n"
     ]
    }
   ],
   "source": [
    "import re\n",
    "print(type(re.compile('#(?P<unique_idx>(?P<id>\\w+) d(?P<day>\\d+))[ ]?(?P<description>.*)[.](?P<fname_extension>.+$)')))\n",
    "name_parser = re.compile('#(?P<unique_idx>(?P<id>\\w+) d(?P<day>\\d+))[ ]?(?P<description>.*)\\.(?P<fname_extension>.+$)')"
   ]
  },
  {
   "cell_type": "code",
   "execution_count": 161,
   "metadata": {},
   "outputs": [
    {
     "name": "stdout",
     "output_type": "stream",
     "text": [
      "  \n"
     ]
    },
    {
     "ename": "AttributeError",
     "evalue": "'NoneType' object has no attribute 'group'",
     "output_type": "error",
     "traceback": [
      "\u001b[1;31m---------------------------------------------------------------------------\u001b[0m",
      "\u001b[1;31mAttributeError\u001b[0m                            Traceback (most recent call last)",
      "\u001b[1;32me:\\Spruce Dropbox\\Jo Yongjae\\Notebook\\programming\\python\\shregi\\test.ipynb Cell 12'\u001b[0m in \u001b[0;36m<module>\u001b[1;34m\u001b[0m\n\u001b[0;32m      <a href='vscode-notebook-cell:/e%3A/Spruce%20Dropbox/Jo%20Yongjae/Notebook/programming/python/shregi/test.ipynb#ch0000006?line=0'>1</a>\u001b[0m \u001b[39mprint\u001b[39m(name_parser\u001b[39m.\u001b[39msearch(\u001b[39m'\u001b[39m\u001b[39m#000001 d1   .tif\u001b[39m\u001b[39m'\u001b[39m)\u001b[39m.\u001b[39mgroup(\u001b[39m'\u001b[39m\u001b[39mdescription\u001b[39m\u001b[39m'\u001b[39m))\n\u001b[1;32m----> <a href='vscode-notebook-cell:/e%3A/Spruce%20Dropbox/Jo%20Yongjae/Notebook/programming/python/shregi/test.ipynb#ch0000006?line=1'>2</a>\u001b[0m \u001b[39mprint\u001b[39m(name_parser\u001b[39m.\u001b[39;49msearch(\u001b[39m'\u001b[39;49m\u001b[39m#000001 d1   \u001b[39;49m\u001b[39m'\u001b[39;49m)\u001b[39m.\u001b[39;49mgroup(\u001b[39m'\u001b[39m\u001b[39mdescription\u001b[39m\u001b[39m'\u001b[39m))\n\u001b[0;32m      <a href='vscode-notebook-cell:/e%3A/Spruce%20Dropbox/Jo%20Yongjae/Notebook/programming/python/shregi/test.ipynb#ch0000006?line=2'>3</a>\u001b[0m \u001b[39mprint\u001b[39m(name_parser\u001b[39m.\u001b[39msearch(\u001b[39m'\u001b[39m\u001b[39m#000001 d1 D1-filter & z scaling X 5.tif\u001b[39m\u001b[39m'\u001b[39m)\u001b[39m.\u001b[39mgroup())\n\u001b[0;32m      <a href='vscode-notebook-cell:/e%3A/Spruce%20Dropbox/Jo%20Yongjae/Notebook/programming/python/shregi/test.ipynb#ch0000006?line=3'>4</a>\u001b[0m \u001b[39mprint\u001b[39m(name_parser\u001b[39m.\u001b[39msearch(\u001b[39m'\u001b[39m\u001b[39m#000001 d1 D1-filter & z scaling X 5.tif\u001b[39m\u001b[39m'\u001b[39m)\u001b[39m.\u001b[39mgroup(\u001b[39m'\u001b[39m\u001b[39mdescription\u001b[39m\u001b[39m'\u001b[39m))\n",
      "\u001b[1;31mAttributeError\u001b[0m: 'NoneType' object has no attribute 'group'"
     ]
    }
   ],
   "source": [
    "print(name_parser.search('#000001 d1   .tif').group('description'))\n",
    "print(name_parser.search('#000001 d1 D1-filter & z scaling X 5.tif').group())\n",
    "print(name_parser.search('#000001 d1 D1-filter & z scaling X 5.tif').group('description'))\n",
    "print(name_parser.search('#000001 d1 D1-filter & z scaling X 5.tif').group('id'))\n",
    "print(name_parser.search('#000001 d1 D1-filter & z scaling X 5.tif').group('day'))\n",
    "print(name_parser.search('#000001 d1 D1-filter & z scaling X 5.tif').group('fname_extension'))\n",
    "print(name_parser.search('#000001 d1 D1-filter & z scaling X 5.tif').group('unique_idx'))"
   ]
  },
  {
   "cell_type": "code",
   "execution_count": null,
   "metadata": {},
   "outputs": [],
   "source": []
  }
 ],
 "metadata": {
  "interpreter": {
   "hash": "44bb27ec67b6bd9da26319ab2fe8b33c0b80ef76490c056f1bb4a5d1fbebca3d"
  },
  "kernelspec": {
   "display_name": "Python 3.6.13 ('converter')",
   "language": "python",
   "name": "python3"
  },
  "language_info": {
   "codemirror_mode": {
    "name": "ipython",
    "version": 3
   },
   "file_extension": ".py",
   "mimetype": "text/x-python",
   "name": "python",
   "nbconvert_exporter": "python",
   "pygments_lexer": "ipython3",
   "version": "3.8.12"
  },
  "orig_nbformat": 4
 },
 "nbformat": 4,
 "nbformat_minor": 2
}
