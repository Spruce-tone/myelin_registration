{
 "cells": [
  {
   "cell_type": "code",
   "execution_count": 1,
   "metadata": {},
   "outputs": [],
   "source": [
    "%reload_ext autoreload\n",
    "%autoreload 2\n",
    "\n",
    "import gzip\n",
    "import xml.etree.ElementTree as ET\n",
    "import os\n",
    "from pkg.traceparser import extractTrace\n",
    "from pkg.traceparser import search_regi_files\n",
    "from pkg.traceparser import start_registration"
   ]
  },
  {
   "cell_type": "code",
   "execution_count": 2,
   "metadata": {},
   "outputs": [],
   "source": [
    "d1_dir = './Day 1'\n",
    "d1_trace = 'Day1Trace.traces'"
   ]
  },
  {
   "cell_type": "code",
   "execution_count": 16,
   "metadata": {},
   "outputs": [
    {
     "name": "stdout",
     "output_type": "stream",
     "text": [
      "[INFO | 2022-02-23 20:38:13,119 | traceparser.py | dir_exist_check] (line 52) ./data already exist :: info logger\n",
      "[INFO | 2022-02-23 20:38:13,120 | traceparser.py | dir_exist_check] (line 52) ./registration already exist :: info logger\n",
      "[INFO | 2022-02-23 20:38:13,120 | traceparser.py | search_regi_files] (line 136) Directory existence check complete :: info logger\n",
      "[INFO | 2022-02-23 20:38:13,122 | traceparser.py | unique_counter] (line 90) start unique id count :: info logger\n",
      "[INFO | 2022-02-23 20:38:13,133 | traceparser.py | unique_counter] (line 90) start unique id count :: info logger\n",
      "[INFO | 2022-02-23 20:38:13,135 | traceparser.py | search_regi_files] (line 156) ['#000001 d1 D1-filter & z scaling X 5.traces', '#000001 d5 D5-filter & z scaling X 5.traces'] :: info logger\n"
     ]
    },
    {
     "data": {
      "text/plain": [
       "{'000001': {'ref': [('./data\\\\#000001 d1 D1-filter & z scaling X 5.tif',\n",
       "    './data\\\\#000001 d1 D1-filter & z scaling X 5.traces')],\n",
       "  'registration': [('./data\\\\#000001 d5 D5-filter & z scaling X 5.tif',\n",
       "    './data\\\\#000001 d5 D5-filter & z scaling X 5.traces')]}}"
      ]
     },
     "execution_count": 16,
     "metadata": {},
     "output_type": "execute_result"
    }
   ],
   "source": [
    "search_regi_files()"
   ]
  },
  {
   "cell_type": "code",
   "execution_count": 66,
   "metadata": {},
   "outputs": [
    {
     "data": {
      "text/plain": [
       "False"
      ]
     },
     "execution_count": 66,
     "metadata": {},
     "output_type": "execute_result"
    }
   ],
   "source": [
    "['1', '2'] == ['2', '1']"
   ]
  },
  {
   "cell_type": "code",
   "execution_count": 101,
   "metadata": {},
   "outputs": [
    {
     "data": {
      "text/plain": [
       "True"
      ]
     },
     "execution_count": 101,
     "metadata": {},
     "output_type": "execute_result"
    }
   ],
   "source": [
    "set(['1', '2', '3']) == set(['2', '3', '1'])"
   ]
  },
  {
   "cell_type": "code",
   "execution_count": 162,
   "metadata": {},
   "outputs": [
    {
     "data": {
      "text/plain": [
       "'#000001 d8 D1-filter & z scaling X 5'"
      ]
     },
     "execution_count": 162,
     "metadata": {},
     "output_type": "execute_result"
    }
   ],
   "source": [
    "'#000001 d8 D1-filter & z scaling X 5.traces'.strip('.traces')"
   ]
  },
  {
   "cell_type": "code",
   "execution_count": 107,
   "metadata": {},
   "outputs": [
    {
     "name": "stdout",
     "output_type": "stream",
     "text": [
      "#000001 d135 D1-filter & z scaling X 5.tif\n",
      "None\n",
      "#000001 d0 D1-filter & z scaling X 5\n",
      "None\n",
      "#000001 d8 D1-filter & z scaling X 5.traces\n",
      "None\n"
     ]
    },
    {
     "data": {
      "text/plain": [
       "['#000001 d0 D1-filter & z scaling X 5',\n",
       " '#000001 d8 D1-filter & z scaling X 5.traces',\n",
       " '#000001 d135 D1-filter & z scaling X 5.tif']"
      ]
     },
     "execution_count": 107,
     "metadata": {},
     "output_type": "execute_result"
    }
   ],
   "source": [
    "import re\n",
    "def key_function(fname):\n",
    "    parser = re.compile('(?P<fname>#(?P<unique_idx>(?P<id>\\w+) d(?P<day>\\d+))[ ]?(?P<description>.*)).?(?P<fname_extension>.+$)?')\n",
    "    \n",
    "    print(parser.search(fname).group())\n",
    "    print(parser.search(fname).group('fname_extension'))\n",
    "    parsed = parser.search(fname).group('day')\n",
    "    return int(parsed)\n",
    "\n",
    "sorted(['#000001 d135 D1-filter & z scaling X 5.tif', '#000001 d0 D1-filter & z scaling X 5', '#000001 d8 D1-filter & z scaling X 5.traces'], key=key_function)"
   ]
  },
  {
   "cell_type": "code",
   "execution_count": 63,
   "metadata": {},
   "outputs": [
    {
     "name": "stdout",
     "output_type": "stream",
     "text": [
      "0\n",
      "asdf\n",
      "2\n",
      "asdf\n",
      "4\n",
      "asdf\n",
      "6\n",
      "asdf\n",
      "8\n",
      "asdf\n"
     ]
    }
   ],
   "source": [
    "for i in range(10):\n",
    "    if i%2==1:\n",
    "        continue\n",
    "    \n",
    "    if i%2==0:\n",
    "        print(i)\n",
    "    \n",
    "    print('asdf')"
   ]
  },
  {
   "cell_type": "code",
   "execution_count": 26,
   "metadata": {},
   "outputs": [],
   "source": [
    "def af(*args):\n",
    "    print(args)\n",
    "\n",
    "def afaf(**args):\n",
    "    print(args)"
   ]
  },
  {
   "cell_type": "code",
   "execution_count": 28,
   "metadata": {},
   "outputs": [
    {
     "name": "stdout",
     "output_type": "stream",
     "text": [
      "(1, 2, 3)\n",
      "{'1': 1, '2': 2, '3': 3}\n"
     ]
    }
   ],
   "source": [
    "af(*(1, 2, 3))\n",
    "\n",
    "afaf(**{'1' : 1, '2' : 2, '3' : 3})"
   ]
  },
  {
   "cell_type": "code",
   "execution_count": 2,
   "metadata": {},
   "outputs": [
    {
     "data": {
      "text/plain": [
       "dict_values([2, 1, 1])"
      ]
     },
     "execution_count": 2,
     "metadata": {},
     "output_type": "execute_result"
    }
   ],
   "source": [
    "from collections import Counter\n",
    "\n",
    "words = ['a', 'b', 'c', 'a']\n",
    "\n",
    "Counter(words).keys() # equals to list(set(words))\n",
    "Counter(words).values() # counts the elements' frequency"
   ]
  },
  {
   "cell_type": "code",
   "execution_count": 159,
   "metadata": {},
   "outputs": [
    {
     "name": "stdout",
     "output_type": "stream",
     "text": [
      "<class 're.Pattern'>\n"
     ]
    }
   ],
   "source": [
    "import re\n",
    "print(type(re.compile('#(?P<unique_idx>(?P<id>\\w+) d(?P<day>\\d+))[ ]?(?P<description>.*)[.](?P<fname_extension>.+$)')))\n",
    "name_parser = re.compile('#(?P<unique_idx>(?P<id>\\w+) d(?P<day>\\d+))[ ]?(?P<description>.*)\\.(?P<fname_extension>.+$)')"
   ]
  },
  {
   "cell_type": "code",
   "execution_count": 161,
   "metadata": {},
   "outputs": [
    {
     "name": "stdout",
     "output_type": "stream",
     "text": [
      "  \n"
     ]
    },
    {
     "ename": "AttributeError",
     "evalue": "'NoneType' object has no attribute 'group'",
     "output_type": "error",
     "traceback": [
      "\u001b[1;31m---------------------------------------------------------------------------\u001b[0m",
      "\u001b[1;31mAttributeError\u001b[0m                            Traceback (most recent call last)",
      "\u001b[1;32me:\\Spruce Dropbox\\Jo Yongjae\\Notebook\\programming\\python\\shregi\\test.ipynb Cell 12'\u001b[0m in \u001b[0;36m<module>\u001b[1;34m\u001b[0m\n\u001b[0;32m      <a href='vscode-notebook-cell:/e%3A/Spruce%20Dropbox/Jo%20Yongjae/Notebook/programming/python/shregi/test.ipynb#ch0000006?line=0'>1</a>\u001b[0m \u001b[39mprint\u001b[39m(name_parser\u001b[39m.\u001b[39msearch(\u001b[39m'\u001b[39m\u001b[39m#000001 d1   .tif\u001b[39m\u001b[39m'\u001b[39m)\u001b[39m.\u001b[39mgroup(\u001b[39m'\u001b[39m\u001b[39mdescription\u001b[39m\u001b[39m'\u001b[39m))\n\u001b[1;32m----> <a href='vscode-notebook-cell:/e%3A/Spruce%20Dropbox/Jo%20Yongjae/Notebook/programming/python/shregi/test.ipynb#ch0000006?line=1'>2</a>\u001b[0m \u001b[39mprint\u001b[39m(name_parser\u001b[39m.\u001b[39;49msearch(\u001b[39m'\u001b[39;49m\u001b[39m#000001 d1   \u001b[39;49m\u001b[39m'\u001b[39;49m)\u001b[39m.\u001b[39;49mgroup(\u001b[39m'\u001b[39m\u001b[39mdescription\u001b[39m\u001b[39m'\u001b[39m))\n\u001b[0;32m      <a href='vscode-notebook-cell:/e%3A/Spruce%20Dropbox/Jo%20Yongjae/Notebook/programming/python/shregi/test.ipynb#ch0000006?line=2'>3</a>\u001b[0m \u001b[39mprint\u001b[39m(name_parser\u001b[39m.\u001b[39msearch(\u001b[39m'\u001b[39m\u001b[39m#000001 d1 D1-filter & z scaling X 5.tif\u001b[39m\u001b[39m'\u001b[39m)\u001b[39m.\u001b[39mgroup())\n\u001b[0;32m      <a href='vscode-notebook-cell:/e%3A/Spruce%20Dropbox/Jo%20Yongjae/Notebook/programming/python/shregi/test.ipynb#ch0000006?line=3'>4</a>\u001b[0m \u001b[39mprint\u001b[39m(name_parser\u001b[39m.\u001b[39msearch(\u001b[39m'\u001b[39m\u001b[39m#000001 d1 D1-filter & z scaling X 5.tif\u001b[39m\u001b[39m'\u001b[39m)\u001b[39m.\u001b[39mgroup(\u001b[39m'\u001b[39m\u001b[39mdescription\u001b[39m\u001b[39m'\u001b[39m))\n",
      "\u001b[1;31mAttributeError\u001b[0m: 'NoneType' object has no attribute 'group'"
     ]
    }
   ],
   "source": [
    "print(name_parser.search('#000001 d1   .tif').group('description'))\n",
    "print(name_parser.search('#000001 d1 D1-filter & z scaling X 5.tif').group())\n",
    "print(name_parser.search('#000001 d1 D1-filter & z scaling X 5.tif').group('description'))\n",
    "print(name_parser.search('#000001 d1 D1-filter & z scaling X 5.tif').group('id'))\n",
    "print(name_parser.search('#000001 d1 D1-filter & z scaling X 5.tif').group('day'))\n",
    "print(name_parser.search('#000001 d1 D1-filter & z scaling X 5.tif').group('fname_extension'))\n",
    "print(name_parser.search('#000001 d1 D1-filter & z scaling X 5.tif').group('unique_idx'))"
   ]
  },
  {
   "cell_type": "code",
   "execution_count": null,
   "metadata": {},
   "outputs": [],
   "source": []
  }
 ],
 "metadata": {
  "interpreter": {
   "hash": "44bb27ec67b6bd9da26319ab2fe8b33c0b80ef76490c056f1bb4a5d1fbebca3d"
  },
  "kernelspec": {
   "display_name": "Python 3.6.13 ('converter')",
   "language": "python",
   "name": "python3"
  },
  "language_info": {
   "codemirror_mode": {
    "name": "ipython",
    "version": 3
   },
   "file_extension": ".py",
   "mimetype": "text/x-python",
   "name": "python",
   "nbconvert_exporter": "python",
   "pygments_lexer": "ipython3",
   "version": "3.8.12"
  },
  "orig_nbformat": 4
 },
 "nbformat": 4,
 "nbformat_minor": 2
}
