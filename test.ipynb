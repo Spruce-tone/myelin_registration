{
 "cells": [
  {
   "cell_type": "code",
   "execution_count": 25,
   "metadata": {},
   "outputs": [],
   "source": [
    "%reload_ext autoreload\n",
    "%autoreload 2\n",
    "\n",
    "import gzip\n",
    "import xml.etree.ElementTree as ET\n",
    "import os\n",
    "from pkg.traceparser import extractTrace"
   ]
  },
  {
   "cell_type": "code",
   "execution_count": 26,
   "metadata": {},
   "outputs": [],
   "source": [
    "d1_dir = './Day 1'\n",
    "d1_trace = 'Day1Trace.traces'"
   ]
  },
  {
   "cell_type": "code",
   "execution_count": 30,
   "metadata": {},
   "outputs": [],
   "source": [
    "paths = extractTrace(d1_dir, d1_trace)"
   ]
  },
  {
   "cell_type": "code",
   "execution_count": 2,
   "metadata": {},
   "outputs": [
    {
     "data": {
      "text/plain": [
       "'dfasdf'"
      ]
     },
     "execution_count": 2,
     "metadata": {},
     "output_type": "execute_result"
    }
   ],
   "source": [
    "'sdfasdf.traces'.strip('.traces')"
   ]
  },
  {
   "cell_type": "code",
   "execution_count": 3,
   "metadata": {},
   "outputs": [
    {
     "data": {
      "text/plain": [
       "dict_values([2, 1, 1])"
      ]
     },
     "execution_count": 3,
     "metadata": {},
     "output_type": "execute_result"
    }
   ],
   "source": [
    "from collections import Counter\n",
    "\n",
    "words = ['a', 'b', 'c', 'a']\n",
    "\n",
    "Counter(words).keys() # equals to list(set(words))\n",
    "Counter(words).values() # counts the elements' frequency"
   ]
  },
  {
   "cell_type": "code",
   "execution_count": 9,
   "metadata": {},
   "outputs": [
    {
     "name": "stdout",
     "output_type": "stream",
     "text": [
      "a 2\n",
      "b 1\n",
      "c 1\n"
     ]
    }
   ],
   "source": [
    "for i, j in zip(Counter(words).keys(), Counter(words).values()):\n",
    "    print(i, j)"
   ]
  },
  {
   "cell_type": "code",
   "execution_count": 63,
   "metadata": {},
   "outputs": [],
   "source": [
    "import re\n",
    "name_parser = re.compile('#(?P<unique_idx>(?P<id>\\w+) d(?P<day>\\d+))[ ]?(?P<description>.*)[.](?P<fname_extension>.+$)')"
   ]
  },
  {
   "cell_type": "code",
   "execution_count": 64,
   "metadata": {},
   "outputs": [
    {
     "name": "stdout",
     "output_type": "stream",
     "text": [
      "#000001 d1 .tif\n",
      "  \n",
      "D1-filter & z scaling X 5\n",
      "000001\n",
      "1\n",
      "tif\n",
      "000001 d1\n"
     ]
    }
   ],
   "source": [
    "print(name_parser.search('#000001 d1 .tif').group())\n",
    "print(name_parser.search('#000001 d1   .tif').group('description'))\n",
    "print(name_parser.search('#000001 d1 D1-filter & z scaling X 5.tif').group('description'))\n",
    "print(name_parser.search('#000001 d1 D1-filter & z scaling X 5.tif').group('id'))\n",
    "print(name_parser.search('#000001 d1 D1-filter & z scaling X 5.tif').group('day'))\n",
    "print(name_parser.search('#000001 d1 D1-filter & z scaling X 5.tif').group('fname_extension'))\n",
    "print(name_parser.search('#000001 d1 D1-filter & z scaling X 5.tif').group('unique_idx'))"
   ]
  },
  {
   "cell_type": "code",
   "execution_count": 69,
   "metadata": {},
   "outputs": [
    {
     "data": {
      "text/plain": [
       "False"
      ]
     },
     "execution_count": 69,
     "metadata": {},
     "output_type": "execute_result"
    }
   ],
   "source": [
    "name_parser.search('#000001-d1 .tif') is not None"
   ]
  },
  {
   "cell_type": "code",
   "execution_count": 70,
   "metadata": {},
   "outputs": [
    {
     "ename": "NameError",
     "evalue": "name '__annotations__' is not defined",
     "output_type": "error",
     "traceback": [
      "\u001b[1;31m---------------------------------------------------------------------------\u001b[0m",
      "\u001b[1;31mNameError\u001b[0m                                 Traceback (most recent call last)",
      "\u001b[1;32m~\\AppData\\Local\\Temp/ipykernel_40036/426773478.py\u001b[0m in \u001b[0;36m<module>\u001b[1;34m\u001b[0m\n\u001b[1;32m----> 1\u001b[1;33m \u001b[0m__annotations__\u001b[0m\u001b[1;33m\u001b[0m\u001b[1;33m\u001b[0m\u001b[0m\n\u001b[0m",
      "\u001b[1;31mNameError\u001b[0m: name '__annotations__' is not defined"
     ]
    }
   ],
   "source": [
    "__annotations__"
   ]
  },
  {
   "cell_type": "code",
   "execution_count": null,
   "metadata": {},
   "outputs": [],
   "source": []
  }
 ],
 "metadata": {
  "interpreter": {
   "hash": "44bb27ec67b6bd9da26319ab2fe8b33c0b80ef76490c056f1bb4a5d1fbebca3d"
  },
  "kernelspec": {
   "display_name": "Python 3.6.13 ('converter')",
   "language": "python",
   "name": "python3"
  },
  "language_info": {
   "codemirror_mode": {
    "name": "ipython",
    "version": 3
   },
   "file_extension": ".py",
   "mimetype": "text/x-python",
   "name": "python",
   "nbconvert_exporter": "python",
   "pygments_lexer": "ipython3",
   "version": "3.6.13"
  },
  "orig_nbformat": 4
 },
 "nbformat": 4,
 "nbformat_minor": 2
}
