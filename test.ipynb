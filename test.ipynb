{
 "cells": [
  {
   "cell_type": "code",
   "execution_count": 2,
   "metadata": {},
   "outputs": [],
   "source": [
    "%reload_ext autoreload\n",
    "%autoreload 2\n",
    "\n",
    "import warnings\n",
    "warnings.filterwarnings(action='ignore') \n",
    "\n",
    "import gzip\n",
    "import xml.etree.ElementTree as ET\n",
    "import os, re, pickle\n",
    "from pkg.trace_stack_regi import extractTrace\n",
    "from pkg.trace_stack_regi import search_regi_files\n",
    "from pkg.trace_stack_regi import segment_crop, regi_cropped_img, save_pickle, load_pickle\n",
    "from collections import Counter\n",
    "\n",
    "import sys\n",
    "import numpy as np\n",
    "from matplotlib import pyplot as plt\n",
    "from skimage import transform, io, exposure\n",
    "\n",
    "from pystackreg import StackReg\n",
    "# import pystackreg"
   ]
  },
  {
   "cell_type": "code",
   "execution_count": 3,
   "metadata": {},
   "outputs": [
    {
     "name": "stdout",
     "output_type": "stream",
     "text": [
      "[INFO | 2022-03-07 18:04:00,122 | traceparser.py | dir_exist_check] (line 62) ./data already exist :: info logger\n",
      "[INFO | 2022-03-07 18:04:00,123 | traceparser.py | dir_exist_check] (line 62) ./crop_data already exist :: info logger\n",
      "[INFO | 2022-03-07 18:04:00,124 | traceparser.py | dir_exist_check] (line 62) ./registration already exist :: info logger\n",
      "[INFO | 2022-03-07 18:04:00,124 | traceparser.py | search_regi_files] (line 160) Directory existence check complete :: info logger\n",
      "[INFO | 2022-03-07 18:04:00,126 | traceparser.py | unique_counter] (line 103) start unique id count :: info logger\n",
      "[INFO | 2022-03-07 18:04:00,128 | traceparser.py | dir_exist_check] (line 62) ./registration\\#000001 already exist :: info logger\n"
     ]
    }
   ],
   "source": [
    "file_path_regi = search_regi_files(raw_path='./data', regi_path='./registration')\n",
    "segment_crop(file_path_regi)\n",
    "regi_cropped_img()"
   ]
  },
  {
   "cell_type": "code",
   "execution_count": 8,
   "metadata": {},
   "outputs": [
    {
     "name": "stdout",
     "output_type": "stream",
     "text": [
      "0\n",
      "1\n",
      "2\n"
     ]
    }
   ],
   "source": [
    "for i in range(3):\n",
    "    print(str(i))"
   ]
  },
  {
   "cell_type": "code",
   "execution_count": 4,
   "metadata": {},
   "outputs": [
    {
     "ename": "TclError",
     "evalue": "couldn't recognize data in image file \"aaa.jpg\"",
     "output_type": "error",
     "traceback": [
      "\u001b[1;31m---------------------------------------------------------------------------\u001b[0m",
      "\u001b[1;31mTclError\u001b[0m                                  Traceback (most recent call last)",
      "\u001b[1;32me:\\Spruce Dropbox\\Jo Yongjae\\Notebook\\programming\\python\\shregi\\test.ipynb Cell 3'\u001b[0m in \u001b[0;36m<module>\u001b[1;34m\u001b[0m\n\u001b[0;32m      <a href='vscode-notebook-cell:/e%3A/Spruce%20Dropbox/Jo%20Yongjae/Notebook/programming/python/shregi/test.ipynb#ch0000012?line=2'>3</a>\u001b[0m Window\u001b[39m=\u001b[39mTk()\n\u001b[0;32m      <a href='vscode-notebook-cell:/e%3A/Spruce%20Dropbox/Jo%20Yongjae/Notebook/programming/python/shregi/test.ipynb#ch0000012?line=3'>4</a>\u001b[0m ListePhoto\u001b[39m=\u001b[39m\u001b[39mlist\u001b[39m()\n\u001b[1;32m----> <a href='vscode-notebook-cell:/e%3A/Spruce%20Dropbox/Jo%20Yongjae/Notebook/programming/python/shregi/test.ipynb#ch0000012?line=4'>5</a>\u001b[0m ListePhoto\u001b[39m.\u001b[39mappend(PhotoImage(file\u001b[39m=\u001b[39;49m\u001b[39m'\u001b[39;49m\u001b[39maaa.jpg\u001b[39;49m\u001b[39m'\u001b[39;49m))\n\u001b[0;32m      <a href='vscode-notebook-cell:/e%3A/Spruce%20Dropbox/Jo%20Yongjae/Notebook/programming/python/shregi/test.ipynb#ch0000012?line=6'>7</a>\u001b[0m \u001b[39mdef\u001b[39;00m \u001b[39mTry\u001b[39m():\n\u001b[0;32m     <a href='vscode-notebook-cell:/e%3A/Spruce%20Dropbox/Jo%20Yongjae/Notebook/programming/python/shregi/test.ipynb#ch0000012?line=9'>10</a>\u001b[0m     Window\u001b[39m.\u001b[39mtitle(\u001b[39m'\u001b[39m\u001b[39mimage\u001b[39m\u001b[39m'\u001b[39m)\n",
      "File \u001b[1;32m~\\anaconda3\\envs\\regi\\lib\\tkinter\\__init__.py:4064\u001b[0m, in \u001b[0;36mPhotoImage.__init__\u001b[1;34m(self, name, cnf, master, **kw)\u001b[0m\n\u001b[0;32m   <a href='file:///c%3A/Users/spruce/anaconda3/envs/regi/lib/tkinter/__init__.py?line=4058'>4059</a>\u001b[0m \u001b[39mdef\u001b[39;00m \u001b[39m__init__\u001b[39m(\u001b[39mself\u001b[39m, name\u001b[39m=\u001b[39m\u001b[39mNone\u001b[39;00m, cnf\u001b[39m=\u001b[39m{}, master\u001b[39m=\u001b[39m\u001b[39mNone\u001b[39;00m, \u001b[39m*\u001b[39m\u001b[39m*\u001b[39mkw):\n\u001b[0;32m   <a href='file:///c%3A/Users/spruce/anaconda3/envs/regi/lib/tkinter/__init__.py?line=4059'>4060</a>\u001b[0m     \u001b[39m\"\"\"Create an image with NAME.\u001b[39;00m\n\u001b[0;32m   <a href='file:///c%3A/Users/spruce/anaconda3/envs/regi/lib/tkinter/__init__.py?line=4060'>4061</a>\u001b[0m \n\u001b[0;32m   <a href='file:///c%3A/Users/spruce/anaconda3/envs/regi/lib/tkinter/__init__.py?line=4061'>4062</a>\u001b[0m \u001b[39m    Valid resource names: data, format, file, gamma, height, palette,\u001b[39;00m\n\u001b[0;32m   <a href='file:///c%3A/Users/spruce/anaconda3/envs/regi/lib/tkinter/__init__.py?line=4062'>4063</a>\u001b[0m \u001b[39m    width.\"\"\"\u001b[39;00m\n\u001b[1;32m-> <a href='file:///c%3A/Users/spruce/anaconda3/envs/regi/lib/tkinter/__init__.py?line=4063'>4064</a>\u001b[0m     Image\u001b[39m.\u001b[39;49m\u001b[39m__init__\u001b[39;49m(\u001b[39mself\u001b[39;49m, \u001b[39m'\u001b[39;49m\u001b[39mphoto\u001b[39;49m\u001b[39m'\u001b[39;49m, name, cnf, master, \u001b[39m*\u001b[39;49m\u001b[39m*\u001b[39;49mkw)\n",
      "File \u001b[1;32m~\\anaconda3\\envs\\regi\\lib\\tkinter\\__init__.py:4009\u001b[0m, in \u001b[0;36mImage.__init__\u001b[1;34m(self, imgtype, name, cnf, master, **kw)\u001b[0m\n\u001b[0;32m   <a href='file:///c%3A/Users/spruce/anaconda3/envs/regi/lib/tkinter/__init__.py?line=4006'>4007</a>\u001b[0m         v \u001b[39m=\u001b[39m \u001b[39mself\u001b[39m\u001b[39m.\u001b[39m_register(v)\n\u001b[0;32m   <a href='file:///c%3A/Users/spruce/anaconda3/envs/regi/lib/tkinter/__init__.py?line=4007'>4008</a>\u001b[0m     options \u001b[39m=\u001b[39m options \u001b[39m+\u001b[39m (\u001b[39m'\u001b[39m\u001b[39m-\u001b[39m\u001b[39m'\u001b[39m\u001b[39m+\u001b[39mk, v)\n\u001b[1;32m-> <a href='file:///c%3A/Users/spruce/anaconda3/envs/regi/lib/tkinter/__init__.py?line=4008'>4009</a>\u001b[0m \u001b[39mself\u001b[39;49m\u001b[39m.\u001b[39;49mtk\u001b[39m.\u001b[39;49mcall((\u001b[39m'\u001b[39;49m\u001b[39mimage\u001b[39;49m\u001b[39m'\u001b[39;49m, \u001b[39m'\u001b[39;49m\u001b[39mcreate\u001b[39;49m\u001b[39m'\u001b[39;49m, imgtype, name,) \u001b[39m+\u001b[39;49m options)\n\u001b[0;32m   <a href='file:///c%3A/Users/spruce/anaconda3/envs/regi/lib/tkinter/__init__.py?line=4009'>4010</a>\u001b[0m \u001b[39mself\u001b[39m\u001b[39m.\u001b[39mname \u001b[39m=\u001b[39m name\n",
      "\u001b[1;31mTclError\u001b[0m: couldn't recognize data in image file \"aaa.jpg\""
     ]
    }
   ],
   "source": [
    "from tkinter import *\n",
    "\n",
    "Window=Tk()\n",
    "ListePhoto=list()\n",
    "ListePhoto.append(PhotoImage(file='aaa.jpg'))\n",
    "\n",
    "def Try():\n",
    "\n",
    "\n",
    "    Window.title('image')\n",
    "    Window.geometry('+0+0')\n",
    "    Window.configure(bg='white')\n",
    "\n",
    "    DisplayImage()\n",
    "\n",
    "def DisplayImage():\n",
    "\n",
    "    label_frame=LabelFrame(Window, relief='ridge', borderwidth=12, text=\"AnImage\",\n",
    "                         font='Arial 16 bold',bg='lightblue',fg='black')\n",
    "    ListeBouttons=list()#Liste Vide pour les Radiobutton(s)\n",
    "\n",
    "    RadioButton = Radiobutton(label_frame,text=\"notext\",image=ListePhoto[0], indicatoron=0)\n",
    "    RadioButton.grid(row=1,column=1)\n",
    "    label_frame.pack(side=\"left\")\n"
   ]
  },
  {
   "cell_type": "code",
   "execution_count": 12,
   "metadata": {},
   "outputs": [],
   "source": [
    "import tkinter as tk\n",
    "from PIL import Image , ImageTk"
   ]
  },
  {
   "cell_type": "code",
   "execution_count": null,
   "metadata": {},
   "outputs": [],
   "source": [
    "import tkinter as tk\n",
    "\n",
    "def popupmsg(msg, title):\n",
    "    root = tk.Tk()\n",
    "    root.title(title)\n",
    "    label = tk.Label(root, text=msg)\n",
    "    label.pack(side=\"top\", fill=\"x\", pady=10)\n",
    "    B1 = tk.Button(root, text=\"Okay\", command = root.destroy)\n",
    "    B1.pack()\n",
    "    popup.mainloop()"
   ]
  },
  {
   "cell_type": "code",
   "execution_count": 1,
   "metadata": {},
   "outputs": [],
   "source": [
    "import cv2\n",
    "img = cv2.imread('aaa.jpg')\n",
    " \n",
    "cv2.imshow('sample image',img)"
   ]
  },
  {
   "cell_type": "code",
   "execution_count": 18,
   "metadata": {},
   "outputs": [
    {
     "name": "stderr",
     "output_type": "stream",
     "text": [
      "Exception in Tkinter callback\n",
      "Traceback (most recent call last):\n",
      "  File \"C:\\Users\\spruce\\anaconda3\\envs\\regi\\lib\\tkinter\\__init__.py\", line 1892, in __call__\n",
      "    return self.func(*args)\n",
      "  File \"C:\\Users\\spruce\\AppData\\Local\\Temp\\ipykernel_26300\\2746296939.py\", line 8, in button1\n",
      "    gif1 = PhotoImage(file = 'aaa.jpg')\n",
      "  File \"C:\\Users\\spruce\\anaconda3\\envs\\regi\\lib\\tkinter\\__init__.py\", line 4064, in __init__\n",
      "    Image.__init__(self, 'photo', name, cnf, master, **kw)\n",
      "  File \"C:\\Users\\spruce\\anaconda3\\envs\\regi\\lib\\tkinter\\__init__.py\", line 4009, in __init__\n",
      "    self.tk.call(('image', 'create', imgtype, name,) + options)\n",
      "_tkinter.TclError: couldn't recognize data in image file \"aaa.jpg\"\n"
     ]
    }
   ],
   "source": [
    "import sys\n",
    "from tkinter import * #or Tkinter if you're on Python2.7\n",
    "\n",
    "def button1():\n",
    "    novi = Toplevel()\n",
    "    canvas = Canvas(novi, width = 300, height = 200)\n",
    "    canvas.pack(expand = YES, fill = BOTH)\n",
    "    gif1 = PhotoImage(file = 'aaa.jpg')\n",
    "                                #image not visual\n",
    "    canvas.create_image(50, 10, image = gif1, anchor = NW)\n",
    "    #assigned the gif1 to the canvas object\n",
    "    canvas.gif1 = gif1\n",
    "\n",
    "\n",
    "mGui = Tk()\n",
    "button1 = Button(mGui,text ='Sklop',command = button1, height=5, width=20).pack()\n",
    "\n",
    "mGui.mainloop()"
   ]
  },
  {
   "cell_type": "code",
   "execution_count": 14,
   "metadata": {},
   "outputs": [],
   "source": []
  },
  {
   "cell_type": "code",
   "execution_count": 4,
   "metadata": {},
   "outputs": [],
   "source": [
    "import numpy as np\n",
    "from numpy.random import uniform"
   ]
  },
  {
   "cell_type": "code",
   "execution_count": 10,
   "metadata": {},
   "outputs": [
    {
     "data": {
      "text/plain": [
       "True"
      ]
     },
     "execution_count": 10,
     "metadata": {},
     "output_type": "execute_result"
    }
   ],
   "source": [
    "good_luck =140\n",
    "((good_luck >= 0) and (good_luck < 7)) or ((good_luck >= 9) and (good_luck < 300))"
   ]
  },
  {
   "cell_type": "code",
   "execution_count": 7,
   "metadata": {},
   "outputs": [],
   "source": [
    "aa = np.floor(uniform(0, 100))"
   ]
  }
 ],
 "metadata": {
  "interpreter": {
   "hash": "44bb27ec67b6bd9da26319ab2fe8b33c0b80ef76490c056f1bb4a5d1fbebca3d"
  },
  "kernelspec": {
   "display_name": "Python 3.6.13 ('converter')",
   "language": "python",
   "name": "python3"
  },
  "language_info": {
   "codemirror_mode": {
    "name": "ipython",
    "version": 3
   },
   "file_extension": ".py",
   "mimetype": "text/x-python",
   "name": "python",
   "nbconvert_exporter": "python",
   "pygments_lexer": "ipython3",
   "version": "3.8.12"
  },
  "orig_nbformat": 4
 },
 "nbformat": 4,
 "nbformat_minor": 2
}
